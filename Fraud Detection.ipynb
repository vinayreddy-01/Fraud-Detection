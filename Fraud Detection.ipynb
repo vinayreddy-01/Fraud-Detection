{
 "cells": [
  {
   "cell_type": "markdown",
   "metadata": {},
   "source": [
    "<style>\n",
    "    /* Change the background color */\n",
    "    body { background-color: #f0f0f0; }\n",
    "\n",
    "    /* Style markdown headings */\n",
    "    h1 { color: #0066cc; }\n",
    "    h2 { color: #009933; }\n",
    "    h3 { color: #ff6600; }\n",
    "\n",
    "    /* Style code cells */\n",
    "    .input_area { background-color: #e6f2ff; }\n",
    "\n",
    "    /* Style output area */\n",
    "    .output_area { background-color: #ffffff; }\n",
    "    \n",
    "    /* Set border for dataframes */\n",
    "    .dataframe { border: 2px solid #000; }\n",
    "\n",
    "    /* Add padding and shadows to cells */\n",
    "    .cell { padding: 10px; box-shadow: 2px 2px 8px rgba(0,0,0,0.1); }\n",
    "\n",
    "</style>\n",
    "\n"
   ]
  },
  {
   "cell_type": "code",
   "execution_count": 1,
   "metadata": {},
   "outputs": [
    {
     "name": "stderr",
     "output_type": "stream",
     "text": [
      "C:\\Users\\mundl\\AppData\\Local\\Temp\\ipykernel_21076\\4166012515.py:1: DeprecationWarning: Importing display from IPython.core.display is deprecated since IPython 7.14, please import from IPython display\n",
      "  from IPython.core.display import display, HTML\n"
     ]
    },
    {
     "data": {
      "text/html": [
       "\n",
       "<style>\n",
       "    body { background-color: #f0f0f0; }\n",
       "    h1 { color: #0066cc; }\n",
       "    h2 { color: #009933; }\n",
       "    h3 { color: #ff6600; }\n",
       "    .input_area { background-color: #e6f2ff; }\n",
       "    .output_area { background-color: #ffffff; }\n",
       "    .dataframe { border: 2px solid #000; }\n",
       "    .cell { padding: 10px; box-shadow: 2px 2px 8px rgba(0,0,0,0.1); }\n",
       "</style>\n"
      ],
      "text/plain": [
       "<IPython.core.display.HTML object>"
      ]
     },
     "metadata": {},
     "output_type": "display_data"
    }
   ],
   "source": [
    "from IPython.core.display import display, HTML\n",
    "\n",
    "display(HTML('''\n",
    "<style>\n",
    "    body { background-color: #f0f0f0; }\n",
    "    h1 { color: #0066cc; }\n",
    "    h2 { color: #009933; }\n",
    "    h3 { color: #ff6600; }\n",
    "    .input_area { background-color: #e6f2ff; }\n",
    "    .output_area { background-color: #ffffff; }\n",
    "    .dataframe { border: 2px solid #000; }\n",
    "    .cell { padding: 10px; box-shadow: 2px 2px 8px rgba(0,0,0,0.1); }\n",
    "</style>\n",
    "'''))"
   ]
  },
  {
   "cell_type": "markdown",
   "metadata": {},
   "source": [
    "# <center> <span style=\"color: #2C3E50; font-family: 'Arial', sans-serif; font-size: 36px; font-weight: bold;\">🚨 Unmasking Fraud: A Data-Driven Approach to Financial Security</span> </center>\n",
    "\n",
    "## <center> <span style=\"color: #2980B9; font-family: 'Arial', sans-serif; font-size: 24px; font-weight: semi-bold;\">Leveraging Machine Learning for Transaction Integrity</span> </center>"
   ]
  },
  {
   "cell_type": "markdown",
   "metadata": {},
   "source": [
    "# Table of Contents\n",
    "\n",
    "1. [Introduction](#Introduction)\n",
    "2. [Model Building: A Car Journey](#Model-Building-A-Car-Journey)\n",
    "3. [Data Cleaning](#Data-cleaning)\n",
    "4. [Fraud Detection Model](#Fraud-Detection-Model)\n",
    "5. [Variable Selection](#Variable-Selection)\n",
    "6. [Model Performance](#Model-Performance)\n",
    "7. [Key Predictors of Fraud](#key-Predictors-of-Fraud)\n",
    "8. [Validity of Factors](#Validity-of-Factors)\n",
    "9. [Infrastructure Updates](#Infrastructure-Updates)\n",
    "10. [Evaluating Effectiveness](#Evaluating-Effectiveness)\n",
    "11. [Conclusion](#Conclusion)\n",
    "12. [Fun Learning](#Fun-Learning)"
   ]
  },
  {
   "cell_type": "markdown",
   "metadata": {},
   "source": [
    "# Introduction\n",
    "\n",
    "\n",
    "<div style=\"text-align: right;\">\n",
    "    <img src=\"https://cylynx.imgix.net/uploads/fraudml-detection-cover.png\" alt=\"Cat\" width=\"700\"/>\n",
    "\n",
    "</div>\n",
    "\n",
    "\n",
    "\n",
    "## Fraud Detection in Financial Transactions\n",
    "\n",
    "Fraudulent transactions pose a significant threat to the financial industry, leading to substantial economic losses and undermining consumer trust. In response to this pressing issue, this project aims to develop a robust model for predicting fraudulent transactions using a comprehensive dataset of financial activities.\n",
    "\n",
    "### Objectives\n",
    "1. **Data Cleaning**\n",
    "   \n",
    "2. **Fraud Detection Model**\n",
    "   \n",
    "3. **Variable Selection**\n",
    "   \n",
    "4. **Model Performance**\n",
    "   \n",
    "\n",
    "5. **Key Predictors of Fraud**\n",
    "   \n",
    "\n",
    "6. **Validity of Factors**\n",
    "   \n",
    "7. **Infrastructure Updates**\n",
    "  \n",
    "8. **Evaluating Effectiveness**\n",
    "   \n",
    "### Methodology\n",
    "This project will utilize a dataset containing over 6 million transactions, encompassing various attributes such as transaction type, amount, and account balances. Statistical analysis and machine learning techniques will be employed to extract meaningful features and build predictive models. The evaluation will focus on metrics such as precision, recall, and F1-score to ensure the model's effectiveness in detecting fraud.\n",
    "\n",
    "### Significance\n",
    "The outcomes of this project hold significant importance for financial institutions, enabling them to proactively identify and mitigate fraudulent activities. By implementing a data-driven approach to fraud detection, organizations can enhance their security measures, protect their customers, and maintain trust in their services.\n",
    "\n",
    "---\n",
    "\n",
    "*This analysis contributes to the ongoing efforts in the financial sector to combat fraud, leveraging advanced analytics and machine learning for a safer transactional environment.*\n"
   ]
  },
  {
   "cell_type": "markdown",
   "metadata": {},
   "source": [
    "# Importing Libraries"
   ]
  },
  {
   "cell_type": "code",
   "execution_count": 4,
   "metadata": {
    "execution": {
     "iopub.execute_input": "2024-10-18T09:51:00.089596Z",
     "iopub.status.busy": "2024-10-18T09:51:00.089137Z",
     "iopub.status.idle": "2024-10-18T09:51:13.337852Z",
     "shell.execute_reply": "2024-10-18T09:51:13.337011Z",
     "shell.execute_reply.started": "2024-10-18T09:51:00.089562Z"
    }
   },
   "outputs": [],
   "source": [
    "# Data Manipulation\n",
    "import pandas as pd\n",
    "import numpy as np \n",
    "import matplotlib.pyplot as plt\n",
    "import seaborn as sns\n",
    "\n",
    "# Machine Learning\n",
    "from sklearn.preprocessing import LabelEncoder,StandardScaler\n",
    "from sklearn.model_selection import train_test_split\n",
    "from imblearn.over_sampling import SMOTE\n",
    "from sklearn.linear_model import LogisticRegression\n",
    "from sklearn.ensemble import RandomForestClassifier\n",
    "from sklearn.svm import SVC\n",
    "from sklearn.metrics import accuracy_score,classification_report ,confusion_matrix,roc_curve, roc_auc_score, precision_recall_curve\n",
    "\n",
    "# Deep Learning\n",
    "import tensorflow as tf\n",
    "from tensorflow.keras.models import Sequential\n",
    "from tensorflow.keras.layers import Dense\n",
    "\n",
    "import warnings\n",
    "warnings.filterwarnings('ignore')"
   ]
  },
  {
   "cell_type": "markdown",
   "metadata": {},
   "source": [
    "# Data Cleaning"
   ]
  },
  {
   "cell_type": "code",
   "execution_count": 5,
   "metadata": {
    "execution": {
     "iopub.execute_input": "2024-10-18T09:51:13.339628Z",
     "iopub.status.busy": "2024-10-18T09:51:13.339083Z",
     "iopub.status.idle": "2024-10-18T09:51:29.684285Z",
     "shell.execute_reply": "2024-10-18T09:51:29.683168Z",
     "shell.execute_reply.started": "2024-10-18T09:51:13.339594Z"
    }
   },
   "outputs": [
    {
     "data": {
      "text/html": [
       "<div>\n",
       "<style scoped>\n",
       "    .dataframe tbody tr th:only-of-type {\n",
       "        vertical-align: middle;\n",
       "    }\n",
       "\n",
       "    .dataframe tbody tr th {\n",
       "        vertical-align: top;\n",
       "    }\n",
       "\n",
       "    .dataframe thead th {\n",
       "        text-align: right;\n",
       "    }\n",
       "</style>\n",
       "<table border=\"1\" class=\"dataframe\">\n",
       "  <thead>\n",
       "    <tr style=\"text-align: right;\">\n",
       "      <th></th>\n",
       "      <th>step</th>\n",
       "      <th>type</th>\n",
       "      <th>amount</th>\n",
       "      <th>nameOrig</th>\n",
       "      <th>oldbalanceOrg</th>\n",
       "      <th>newbalanceOrig</th>\n",
       "      <th>nameDest</th>\n",
       "      <th>oldbalanceDest</th>\n",
       "      <th>newbalanceDest</th>\n",
       "      <th>isFraud</th>\n",
       "      <th>isFlaggedFraud</th>\n",
       "    </tr>\n",
       "  </thead>\n",
       "  <tbody>\n",
       "    <tr>\n",
       "      <th>0</th>\n",
       "      <td>1</td>\n",
       "      <td>PAYMENT</td>\n",
       "      <td>9839.64</td>\n",
       "      <td>C1231006815</td>\n",
       "      <td>170136.0</td>\n",
       "      <td>160296.36</td>\n",
       "      <td>M1979787155</td>\n",
       "      <td>0.0</td>\n",
       "      <td>0.0</td>\n",
       "      <td>0</td>\n",
       "      <td>0</td>\n",
       "    </tr>\n",
       "    <tr>\n",
       "      <th>1</th>\n",
       "      <td>1</td>\n",
       "      <td>PAYMENT</td>\n",
       "      <td>1864.28</td>\n",
       "      <td>C1666544295</td>\n",
       "      <td>21249.0</td>\n",
       "      <td>19384.72</td>\n",
       "      <td>M2044282225</td>\n",
       "      <td>0.0</td>\n",
       "      <td>0.0</td>\n",
       "      <td>0</td>\n",
       "      <td>0</td>\n",
       "    </tr>\n",
       "    <tr>\n",
       "      <th>2</th>\n",
       "      <td>1</td>\n",
       "      <td>TRANSFER</td>\n",
       "      <td>181.00</td>\n",
       "      <td>C1305486145</td>\n",
       "      <td>181.0</td>\n",
       "      <td>0.00</td>\n",
       "      <td>C553264065</td>\n",
       "      <td>0.0</td>\n",
       "      <td>0.0</td>\n",
       "      <td>1</td>\n",
       "      <td>0</td>\n",
       "    </tr>\n",
       "    <tr>\n",
       "      <th>3</th>\n",
       "      <td>1</td>\n",
       "      <td>CASH_OUT</td>\n",
       "      <td>181.00</td>\n",
       "      <td>C840083671</td>\n",
       "      <td>181.0</td>\n",
       "      <td>0.00</td>\n",
       "      <td>C38997010</td>\n",
       "      <td>21182.0</td>\n",
       "      <td>0.0</td>\n",
       "      <td>1</td>\n",
       "      <td>0</td>\n",
       "    </tr>\n",
       "    <tr>\n",
       "      <th>4</th>\n",
       "      <td>1</td>\n",
       "      <td>PAYMENT</td>\n",
       "      <td>11668.14</td>\n",
       "      <td>C2048537720</td>\n",
       "      <td>41554.0</td>\n",
       "      <td>29885.86</td>\n",
       "      <td>M1230701703</td>\n",
       "      <td>0.0</td>\n",
       "      <td>0.0</td>\n",
       "      <td>0</td>\n",
       "      <td>0</td>\n",
       "    </tr>\n",
       "  </tbody>\n",
       "</table>\n",
       "</div>"
      ],
      "text/plain": [
       "   step      type    amount     nameOrig  oldbalanceOrg  newbalanceOrig  \\\n",
       "0     1   PAYMENT   9839.64  C1231006815       170136.0       160296.36   \n",
       "1     1   PAYMENT   1864.28  C1666544295        21249.0        19384.72   \n",
       "2     1  TRANSFER    181.00  C1305486145          181.0            0.00   \n",
       "3     1  CASH_OUT    181.00   C840083671          181.0            0.00   \n",
       "4     1   PAYMENT  11668.14  C2048537720        41554.0        29885.86   \n",
       "\n",
       "      nameDest  oldbalanceDest  newbalanceDest  isFraud  isFlaggedFraud  \n",
       "0  M1979787155             0.0             0.0        0               0  \n",
       "1  M2044282225             0.0             0.0        0               0  \n",
       "2   C553264065             0.0             0.0        1               0  \n",
       "3    C38997010         21182.0             0.0        1               0  \n",
       "4  M1230701703             0.0             0.0        0               0  "
      ]
     },
     "execution_count": 5,
     "metadata": {},
     "output_type": "execute_result"
    }
   ],
   "source": [
    "# reading data\n",
    "df = pd.read_csv('/kaggle/input/fraud-transaction/Fraud.csv')\n",
    "df.head()"
   ]
  },
  {
   "cell_type": "markdown",
   "metadata": {},
   "source": [
    "## Data Description \n",
    "\n",
    "Data description is a fundamental step in the data analysis process that provides valuable insights into the dataset's structure, quality, and characteristics. By thoroughly describing the data, you can enhance understanding, improve decision-making, and ensure effective modeling in your project.\n",
    "\n",
    "- **step** - maps a unit of time in the real world. In this case 1 step is 1 hour of time. Total steps 744 (30 days simulation).\n",
    "\n",
    "\n",
    "\n",
    "- **type** - CASH-IN, CASH-OUT, DEBIT, PAYMENT and TRANSFER.\n",
    "\n",
    "- **amount** - amount of the transaction in local currency.\n",
    "\n",
    "- **nameOrig** - customer who started the transaction\n",
    "\n",
    "- **oldbalanceOrg** - initial balance before the transaction\n",
    "\n",
    "- **newbalanceOrig** - new balance after the transaction\n",
    "\n",
    "- **nameDest** - customer who is the recipient of the transaction\n",
    "\n",
    "- **oldbalanceDest** - initial balance recipient before the transaction. Note that there is not information for customers that start   with M (Merchants).\n",
    "\n",
    "- **newbalanceDest** - new balance recipient after the transaction. Note that there is not information for customers that start with   M (Merchants).\n",
    "\n",
    "- **isFraud** - This is the transactions made by the fraudulent agents inside the simulation. In this specific dataset the       fraudulent behavior of the agents aims to profit by taking control or customers accounts and try to empty the funds by transferring to another account and then cashing out of the system.\n",
    "\n",
    "- **isFlaggedFraud** - The business model aims to control massive transfers from one account to another and flags illegal attempts. An illegal attempt in this dataset is an attempt to transfer more than 200.000 in a single transaction."
   ]
  },
  {
   "cell_type": "markdown",
   "metadata": {},
   "source": [
    "## Data Cleaning Process\n",
    "\n",
    "Data cleaning is a crucial step in preparing the dataset for analysis and modeling. In this project, the following processes were implemented to ensure the quality and reliability of the data:\n",
    "\n",
    "### 1. Handling Missing Values\n",
    "- **Identification**: Missing values were identified using techniques such as `.isnull()` and `.info()` methods in Python to understand their distribution across different columns.\n",
    "- **Imputation**: Depending on the nature of the data:\n",
    "  - **Numerical Features**: Missing values were filled using the mean or median of the respective feature to maintain statistical integrity.\n",
    "  - **Categorical Features**: For categorical variables, missing values were replaced with the mode or a new category labeled \"Unknown.\"\n",
    "- **Removal**: If a feature had a high percentage of missing values (e.g., more than 30%), it was considered for removal from the dataset, as it may not provide useful information.\n",
    "\n",
    "### 2. Handling Outliers\n",
    "- **Detection**: Outliers were detected using statistical methods, including:\n",
    "  - **Z-score**: Values with a Z-score greater than 3 or less than -3 were flagged as potential outliers.\n",
    "  - **Interquartile Range (IQR)**: Values beyond 1.5 times the IQR (upper and lower bounds) were also considered outliers.\n",
    "- **Treatment**: Depending on the context:\n",
    "  - **Capping**: Outliers were capped at the upper and lower limits (e.g., 95th and 5th percentiles) to reduce their impact on the model.\n",
    "  - **Removal**: In cases where outliers were clearly errors or artifacts, they were removed from the dataset.\n",
    "\n",
    "### 3. Handling Multi-collinearity\n",
    "- **Correlation Analysis**: A correlation matrix was generated to identify highly correlated features (correlation coefficient above 0.75).\n",
    "\n",
    "- **Feature Selection**: To mitigate multi-collinearity:\n",
    "  - Highly correlated features were analyzed for redundancy, and only one feature from each correlated pair was retained based on domain knowledge and feature importance.\n",
    "  - Dimensionality reduction techniques, such as Principal Component Analysis (PCA), were considered to combine correlated features into a single component when appropriate.\n",
    "\n",
    "By systematically addressing these aspects of data cleaning, the dataset was refined to enhance its quality and suitability for further analysis and modeling."
   ]
  },
  {
   "cell_type": "code",
   "execution_count": 6,
   "metadata": {
    "execution": {
     "iopub.execute_input": "2024-10-18T09:51:29.686815Z",
     "iopub.status.busy": "2024-10-18T09:51:29.686476Z",
     "iopub.status.idle": "2024-10-18T09:51:30.627547Z",
     "shell.execute_reply": "2024-10-18T09:51:30.626576Z",
     "shell.execute_reply.started": "2024-10-18T09:51:29.686779Z"
    }
   },
   "outputs": [
    {
     "data": {
      "text/plain": [
       "step              0\n",
       "type              0\n",
       "amount            0\n",
       "nameOrig          0\n",
       "oldbalanceOrg     0\n",
       "newbalanceOrig    0\n",
       "nameDest          0\n",
       "oldbalanceDest    0\n",
       "newbalanceDest    0\n",
       "isFraud           0\n",
       "isFlaggedFraud    0\n",
       "dtype: int64"
      ]
     },
     "execution_count": 6,
     "metadata": {},
     "output_type": "execute_result"
    }
   ],
   "source": [
    "df.isna().sum()"
   ]
  },
  {
   "cell_type": "markdown",
   "metadata": {},
   "source": [
    "- we found No missing values in our data"
   ]
  },
  {
   "cell_type": "code",
   "execution_count": 7,
   "metadata": {
    "execution": {
     "iopub.execute_input": "2024-10-18T09:51:30.629283Z",
     "iopub.status.busy": "2024-10-18T09:51:30.628868Z",
     "iopub.status.idle": "2024-10-18T09:51:30.651820Z",
     "shell.execute_reply": "2024-10-18T09:51:30.650999Z",
     "shell.execute_reply.started": "2024-10-18T09:51:30.629238Z"
    }
   },
   "outputs": [
    {
     "name": "stdout",
     "output_type": "stream",
     "text": [
      "<class 'pandas.core.frame.DataFrame'>\n",
      "RangeIndex: 6362620 entries, 0 to 6362619\n",
      "Data columns (total 11 columns):\n",
      " #   Column          Dtype  \n",
      "---  ------          -----  \n",
      " 0   step            int64  \n",
      " 1   type            object \n",
      " 2   amount          float64\n",
      " 3   nameOrig        object \n",
      " 4   oldbalanceOrg   float64\n",
      " 5   newbalanceOrig  float64\n",
      " 6   nameDest        object \n",
      " 7   oldbalanceDest  float64\n",
      " 8   newbalanceDest  float64\n",
      " 9   isFraud         int64  \n",
      " 10  isFlaggedFraud  int64  \n",
      "dtypes: float64(5), int64(3), object(3)\n",
      "memory usage: 534.0+ MB\n"
     ]
    }
   ],
   "source": [
    "df.info()"
   ]
  },
  {
   "cell_type": "code",
   "execution_count": 8,
   "metadata": {
    "execution": {
     "iopub.execute_input": "2024-10-18T09:51:30.653413Z",
     "iopub.status.busy": "2024-10-18T09:51:30.653091Z",
     "iopub.status.idle": "2024-10-18T09:51:43.327429Z",
     "shell.execute_reply": "2024-10-18T09:51:43.326144Z",
     "shell.execute_reply.started": "2024-10-18T09:51:30.653374Z"
    }
   },
   "outputs": [
    {
     "data": {
      "text/plain": [
       "0"
      ]
     },
     "execution_count": 8,
     "metadata": {},
     "output_type": "execute_result"
    }
   ],
   "source": [
    "df.duplicated().sum()"
   ]
  },
  {
   "cell_type": "markdown",
   "metadata": {},
   "source": [
    "-  No duplicate values in our data"
   ]
  },
  {
   "cell_type": "code",
   "execution_count": 9,
   "metadata": {
    "execution": {
     "iopub.execute_input": "2024-10-18T09:51:43.329365Z",
     "iopub.status.busy": "2024-10-18T09:51:43.329016Z",
     "iopub.status.idle": "2024-10-18T09:51:43.359466Z",
     "shell.execute_reply": "2024-10-18T09:51:43.358401Z",
     "shell.execute_reply.started": "2024-10-18T09:51:43.329330Z"
    }
   },
   "outputs": [],
   "source": [
    "#  optimizing data types\n",
    "df['amount'] = df['amount'].astype('int32')"
   ]
  },
  {
   "cell_type": "markdown",
   "metadata": {},
   "source": [
    "# Variable Selection\n",
    "## Feature Engineering\n",
    "\n",
    "<div style=\"text-align: right;\">\n",
    "    <img src=\"https://media.geeksforgeeks.org/wp-content/uploads/20231220095556/Feature-Engineering.png\" alt=\"\" width=\"700\" height=\"400\">\n",
    "</div>\n",
    "\n",
    "\n",
    "Feature engineering is a vital aspect of the machine learning pipeline that involves selecting, transforming, and creating features to improve model performance. By leveraging domain knowledge and appropriate techniques, you can enhance the predictive power of your models and achieve better outcomes."
   ]
  },
  {
   "cell_type": "code",
   "execution_count": 10,
   "metadata": {
    "execution": {
     "iopub.execute_input": "2024-10-18T09:51:43.361202Z",
     "iopub.status.busy": "2024-10-18T09:51:43.360825Z",
     "iopub.status.idle": "2024-10-18T09:51:43.376523Z",
     "shell.execute_reply": "2024-10-18T09:51:43.375397Z",
     "shell.execute_reply.started": "2024-10-18T09:51:43.361159Z"
    }
   },
   "outputs": [
    {
     "data": {
      "text/html": [
       "<div>\n",
       "<style scoped>\n",
       "    .dataframe tbody tr th:only-of-type {\n",
       "        vertical-align: middle;\n",
       "    }\n",
       "\n",
       "    .dataframe tbody tr th {\n",
       "        vertical-align: top;\n",
       "    }\n",
       "\n",
       "    .dataframe thead th {\n",
       "        text-align: right;\n",
       "    }\n",
       "</style>\n",
       "<table border=\"1\" class=\"dataframe\">\n",
       "  <thead>\n",
       "    <tr style=\"text-align: right;\">\n",
       "      <th></th>\n",
       "      <th>step</th>\n",
       "      <th>type</th>\n",
       "      <th>amount</th>\n",
       "      <th>nameOrig</th>\n",
       "      <th>oldbalanceOrg</th>\n",
       "      <th>newbalanceOrig</th>\n",
       "      <th>nameDest</th>\n",
       "      <th>oldbalanceDest</th>\n",
       "      <th>newbalanceDest</th>\n",
       "      <th>isFraud</th>\n",
       "      <th>isFlaggedFraud</th>\n",
       "    </tr>\n",
       "  </thead>\n",
       "  <tbody>\n",
       "    <tr>\n",
       "      <th>0</th>\n",
       "      <td>1</td>\n",
       "      <td>PAYMENT</td>\n",
       "      <td>9839</td>\n",
       "      <td>C1231006815</td>\n",
       "      <td>170136.0</td>\n",
       "      <td>160296.36</td>\n",
       "      <td>M1979787155</td>\n",
       "      <td>0.0</td>\n",
       "      <td>0.0</td>\n",
       "      <td>0</td>\n",
       "      <td>0</td>\n",
       "    </tr>\n",
       "    <tr>\n",
       "      <th>1</th>\n",
       "      <td>1</td>\n",
       "      <td>PAYMENT</td>\n",
       "      <td>1864</td>\n",
       "      <td>C1666544295</td>\n",
       "      <td>21249.0</td>\n",
       "      <td>19384.72</td>\n",
       "      <td>M2044282225</td>\n",
       "      <td>0.0</td>\n",
       "      <td>0.0</td>\n",
       "      <td>0</td>\n",
       "      <td>0</td>\n",
       "    </tr>\n",
       "    <tr>\n",
       "      <th>2</th>\n",
       "      <td>1</td>\n",
       "      <td>TRANSFER</td>\n",
       "      <td>181</td>\n",
       "      <td>C1305486145</td>\n",
       "      <td>181.0</td>\n",
       "      <td>0.00</td>\n",
       "      <td>C553264065</td>\n",
       "      <td>0.0</td>\n",
       "      <td>0.0</td>\n",
       "      <td>1</td>\n",
       "      <td>0</td>\n",
       "    </tr>\n",
       "    <tr>\n",
       "      <th>3</th>\n",
       "      <td>1</td>\n",
       "      <td>CASH_OUT</td>\n",
       "      <td>181</td>\n",
       "      <td>C840083671</td>\n",
       "      <td>181.0</td>\n",
       "      <td>0.00</td>\n",
       "      <td>C38997010</td>\n",
       "      <td>21182.0</td>\n",
       "      <td>0.0</td>\n",
       "      <td>1</td>\n",
       "      <td>0</td>\n",
       "    </tr>\n",
       "    <tr>\n",
       "      <th>4</th>\n",
       "      <td>1</td>\n",
       "      <td>PAYMENT</td>\n",
       "      <td>11668</td>\n",
       "      <td>C2048537720</td>\n",
       "      <td>41554.0</td>\n",
       "      <td>29885.86</td>\n",
       "      <td>M1230701703</td>\n",
       "      <td>0.0</td>\n",
       "      <td>0.0</td>\n",
       "      <td>0</td>\n",
       "      <td>0</td>\n",
       "    </tr>\n",
       "  </tbody>\n",
       "</table>\n",
       "</div>"
      ],
      "text/plain": [
       "   step      type  amount     nameOrig  oldbalanceOrg  newbalanceOrig  \\\n",
       "0     1   PAYMENT    9839  C1231006815       170136.0       160296.36   \n",
       "1     1   PAYMENT    1864  C1666544295        21249.0        19384.72   \n",
       "2     1  TRANSFER     181  C1305486145          181.0            0.00   \n",
       "3     1  CASH_OUT     181   C840083671          181.0            0.00   \n",
       "4     1   PAYMENT   11668  C2048537720        41554.0        29885.86   \n",
       "\n",
       "      nameDest  oldbalanceDest  newbalanceDest  isFraud  isFlaggedFraud  \n",
       "0  M1979787155             0.0             0.0        0               0  \n",
       "1  M2044282225             0.0             0.0        0               0  \n",
       "2   C553264065             0.0             0.0        1               0  \n",
       "3    C38997010         21182.0             0.0        1               0  \n",
       "4  M1230701703             0.0             0.0        0               0  "
      ]
     },
     "execution_count": 10,
     "metadata": {},
     "output_type": "execute_result"
    }
   ],
   "source": [
    "df.head()"
   ]
  },
  {
   "cell_type": "markdown",
   "metadata": {},
   "source": [
    "- dropping nameOring & nameDest , as they are not much necessary "
   ]
  },
  {
   "cell_type": "code",
   "execution_count": 11,
   "metadata": {
    "execution": {
     "iopub.execute_input": "2024-10-18T09:51:43.378178Z",
     "iopub.status.busy": "2024-10-18T09:51:43.377822Z",
     "iopub.status.idle": "2024-10-18T09:51:43.592731Z",
     "shell.execute_reply": "2024-10-18T09:51:43.591845Z",
     "shell.execute_reply.started": "2024-10-18T09:51:43.378145Z"
    }
   },
   "outputs": [],
   "source": [
    "df = df.drop(columns=['nameOrig', 'nameDest'])"
   ]
  },
  {
   "cell_type": "markdown",
   "metadata": {},
   "source": [
    "- Creating new feature , balance_diffOrg  and balance_diffDest ."
   ]
  },
  {
   "cell_type": "code",
   "execution_count": 12,
   "metadata": {
    "execution": {
     "iopub.execute_input": "2024-10-18T09:51:43.596757Z",
     "iopub.status.busy": "2024-10-18T09:51:43.596348Z",
     "iopub.status.idle": "2024-10-18T09:51:43.973991Z",
     "shell.execute_reply": "2024-10-18T09:51:43.973115Z",
     "shell.execute_reply.started": "2024-10-18T09:51:43.596722Z"
    }
   },
   "outputs": [],
   "source": [
    "df['balance_diffOrg'] = df['oldbalanceOrg'] - df['newbalanceOrig']\n",
    "df['balance_diffDes'] = df['oldbalanceDest'] - df['newbalanceDest']\n",
    "\n",
    "df = df.drop(columns=['oldbalanceOrg','newbalanceOrig','oldbalanceDest','newbalanceDest'])\n",
    "\n",
    "df['balance_diffOrg'] = df['balance_diffOrg'].astype('int32')\n",
    "df['balance_diffDes'] = df['balance_diffDes'].astype('int32')"
   ]
  },
  {
   "cell_type": "code",
   "execution_count": 13,
   "metadata": {
    "execution": {
     "iopub.execute_input": "2024-10-18T09:51:43.975475Z",
     "iopub.status.busy": "2024-10-18T09:51:43.975150Z",
     "iopub.status.idle": "2024-10-18T09:51:43.986597Z",
     "shell.execute_reply": "2024-10-18T09:51:43.985575Z",
     "shell.execute_reply.started": "2024-10-18T09:51:43.975443Z"
    }
   },
   "outputs": [
    {
     "data": {
      "text/html": [
       "<div>\n",
       "<style scoped>\n",
       "    .dataframe tbody tr th:only-of-type {\n",
       "        vertical-align: middle;\n",
       "    }\n",
       "\n",
       "    .dataframe tbody tr th {\n",
       "        vertical-align: top;\n",
       "    }\n",
       "\n",
       "    .dataframe thead th {\n",
       "        text-align: right;\n",
       "    }\n",
       "</style>\n",
       "<table border=\"1\" class=\"dataframe\">\n",
       "  <thead>\n",
       "    <tr style=\"text-align: right;\">\n",
       "      <th></th>\n",
       "      <th>step</th>\n",
       "      <th>type</th>\n",
       "      <th>amount</th>\n",
       "      <th>isFraud</th>\n",
       "      <th>isFlaggedFraud</th>\n",
       "      <th>balance_diffOrg</th>\n",
       "      <th>balance_diffDes</th>\n",
       "    </tr>\n",
       "  </thead>\n",
       "  <tbody>\n",
       "    <tr>\n",
       "      <th>0</th>\n",
       "      <td>1</td>\n",
       "      <td>PAYMENT</td>\n",
       "      <td>9839</td>\n",
       "      <td>0</td>\n",
       "      <td>0</td>\n",
       "      <td>9839</td>\n",
       "      <td>0</td>\n",
       "    </tr>\n",
       "    <tr>\n",
       "      <th>1</th>\n",
       "      <td>1</td>\n",
       "      <td>PAYMENT</td>\n",
       "      <td>1864</td>\n",
       "      <td>0</td>\n",
       "      <td>0</td>\n",
       "      <td>1864</td>\n",
       "      <td>0</td>\n",
       "    </tr>\n",
       "    <tr>\n",
       "      <th>2</th>\n",
       "      <td>1</td>\n",
       "      <td>TRANSFER</td>\n",
       "      <td>181</td>\n",
       "      <td>1</td>\n",
       "      <td>0</td>\n",
       "      <td>181</td>\n",
       "      <td>0</td>\n",
       "    </tr>\n",
       "    <tr>\n",
       "      <th>3</th>\n",
       "      <td>1</td>\n",
       "      <td>CASH_OUT</td>\n",
       "      <td>181</td>\n",
       "      <td>1</td>\n",
       "      <td>0</td>\n",
       "      <td>181</td>\n",
       "      <td>21182</td>\n",
       "    </tr>\n",
       "    <tr>\n",
       "      <th>4</th>\n",
       "      <td>1</td>\n",
       "      <td>PAYMENT</td>\n",
       "      <td>11668</td>\n",
       "      <td>0</td>\n",
       "      <td>0</td>\n",
       "      <td>11668</td>\n",
       "      <td>0</td>\n",
       "    </tr>\n",
       "  </tbody>\n",
       "</table>\n",
       "</div>"
      ],
      "text/plain": [
       "   step      type  amount  isFraud  isFlaggedFraud  balance_diffOrg  \\\n",
       "0     1   PAYMENT    9839        0               0             9839   \n",
       "1     1   PAYMENT    1864        0               0             1864   \n",
       "2     1  TRANSFER     181        1               0              181   \n",
       "3     1  CASH_OUT     181        1               0              181   \n",
       "4     1   PAYMENT   11668        0               0            11668   \n",
       "\n",
       "   balance_diffDes  \n",
       "0                0  \n",
       "1                0  \n",
       "2                0  \n",
       "3            21182  \n",
       "4                0  "
      ]
     },
     "execution_count": 13,
     "metadata": {},
     "output_type": "execute_result"
    }
   ],
   "source": [
    "df.head()"
   ]
  },
  {
   "cell_type": "markdown",
   "metadata": {},
   "source": [
    "# Visualizing the Data"
   ]
  },
  {
   "cell_type": "code",
   "execution_count": 14,
   "metadata": {
    "execution": {
     "iopub.execute_input": "2024-10-18T09:51:43.988639Z",
     "iopub.status.busy": "2024-10-18T09:51:43.988229Z",
     "iopub.status.idle": "2024-10-18T09:51:47.835545Z",
     "shell.execute_reply": "2024-10-18T09:51:47.834569Z",
     "shell.execute_reply.started": "2024-10-18T09:51:43.988595Z"
    }
   },
   "outputs": [
    {
     "data": {
      "image/png": "[encoded data removed]",
      "text/plain": [
       "<Figure size 600x600 with 1 Axes>"
      ]
     },
     "metadata": {},
     "output_type": "display_data"
    }
   ],
   "source": [
    "sns.set(style='whitegrid')\n",
    "plt.figure(figsize=(6,6))\n",
    "sns.countplot(x = df['type'],palette='viridis')\n",
    "plt.title('Types of Transactions')\n",
    "plt.xticks(rotation=10)\n",
    "plt.show()"
   ]
  },
  {
   "cell_type": "markdown",
   "metadata": {},
   "source": [
    "- We can observe CASH_OUT & PAYMENT has more transactions than others\n",
    "- DEBIT  transactions are in less number "
   ]
  },
  {
   "cell_type": "code",
   "execution_count": null,
   "metadata": {},
   "outputs": [],
   "source": []
  },
  {
   "cell_type": "code",
   "execution_count": 15,
   "metadata": {
    "execution": {
     "iopub.execute_input": "2024-10-18T09:51:47.837134Z",
     "iopub.status.busy": "2024-10-18T09:51:47.836786Z",
     "iopub.status.idle": "2024-10-18T09:51:47.904734Z",
     "shell.execute_reply": "2024-10-18T09:51:47.903887Z",
     "shell.execute_reply.started": "2024-10-18T09:51:47.837101Z"
    }
   },
   "outputs": [
    {
     "data": {
      "text/plain": [
       "isFraud\n",
       "0    6354407\n",
       "1       8213\n",
       "Name: count, dtype: int64"
      ]
     },
     "execution_count": 15,
     "metadata": {},
     "output_type": "execute_result"
    }
   ],
   "source": [
    "df['isFraud'].value_counts()"
   ]
  },
  {
   "cell_type": "markdown",
   "metadata": {},
   "source": [
    "- data is Highly imbalanced"
   ]
  },
  {
   "cell_type": "code",
   "execution_count": 16,
   "metadata": {
    "execution": {
     "iopub.execute_input": "2024-10-18T09:51:47.907074Z",
     "iopub.status.busy": "2024-10-18T09:51:47.906189Z",
     "iopub.status.idle": "2024-10-18T09:51:47.975979Z",
     "shell.execute_reply": "2024-10-18T09:51:47.974744Z",
     "shell.execute_reply.started": "2024-10-18T09:51:47.907028Z"
    }
   },
   "outputs": [
    {
     "data": {
      "text/plain": [
       "isFlaggedFraud\n",
       "0    6362604\n",
       "1         16\n",
       "Name: count, dtype: int64"
      ]
     },
     "execution_count": 16,
     "metadata": {},
     "output_type": "execute_result"
    }
   ],
   "source": [
    "df['isFlaggedFraud'].value_counts()"
   ]
  },
  {
   "cell_type": "markdown",
   "metadata": {},
   "source": [
    "**Encoding the Categorical columns to Numeric**\n",
    "\n",
    "Encoding data to numeric values is essential for making it suitable for machine learning algorithms. It ensures that the data is interpretable, memory-efficient, and capable of capturing meaningful patterns that can enhance model performance."
   ]
  },
  {
   "cell_type": "code",
   "execution_count": 17,
   "metadata": {
    "execution": {
     "iopub.execute_input": "2024-10-18T09:51:47.977477Z",
     "iopub.status.busy": "2024-10-18T09:51:47.977163Z",
     "iopub.status.idle": "2024-10-18T09:51:49.233136Z",
     "shell.execute_reply": "2024-10-18T09:51:49.232079Z",
     "shell.execute_reply.started": "2024-10-18T09:51:47.977446Z"
    }
   },
   "outputs": [
    {
     "data": {
      "text/html": [
       "<div>\n",
       "<style scoped>\n",
       "    .dataframe tbody tr th:only-of-type {\n",
       "        vertical-align: middle;\n",
       "    }\n",
       "\n",
       "    .dataframe tbody tr th {\n",
       "        vertical-align: top;\n",
       "    }\n",
       "\n",
       "    .dataframe thead th {\n",
       "        text-align: right;\n",
       "    }\n",
       "</style>\n",
       "<table border=\"1\" class=\"dataframe\">\n",
       "  <thead>\n",
       "    <tr style=\"text-align: right;\">\n",
       "      <th></th>\n",
       "      <th>step</th>\n",
       "      <th>type</th>\n",
       "      <th>amount</th>\n",
       "      <th>isFraud</th>\n",
       "      <th>isFlaggedFraud</th>\n",
       "      <th>balance_diffOrg</th>\n",
       "      <th>balance_diffDes</th>\n",
       "    </tr>\n",
       "  </thead>\n",
       "  <tbody>\n",
       "    <tr>\n",
       "      <th>0</th>\n",
       "      <td>1</td>\n",
       "      <td>3</td>\n",
       "      <td>9839</td>\n",
       "      <td>0</td>\n",
       "      <td>0</td>\n",
       "      <td>9839</td>\n",
       "      <td>0</td>\n",
       "    </tr>\n",
       "    <tr>\n",
       "      <th>1</th>\n",
       "      <td>1</td>\n",
       "      <td>3</td>\n",
       "      <td>1864</td>\n",
       "      <td>0</td>\n",
       "      <td>0</td>\n",
       "      <td>1864</td>\n",
       "      <td>0</td>\n",
       "    </tr>\n",
       "    <tr>\n",
       "      <th>2</th>\n",
       "      <td>1</td>\n",
       "      <td>4</td>\n",
       "      <td>181</td>\n",
       "      <td>1</td>\n",
       "      <td>0</td>\n",
       "      <td>181</td>\n",
       "      <td>0</td>\n",
       "    </tr>\n",
       "    <tr>\n",
       "      <th>3</th>\n",
       "      <td>1</td>\n",
       "      <td>1</td>\n",
       "      <td>181</td>\n",
       "      <td>1</td>\n",
       "      <td>0</td>\n",
       "      <td>181</td>\n",
       "      <td>21182</td>\n",
       "    </tr>\n",
       "    <tr>\n",
       "      <th>4</th>\n",
       "      <td>1</td>\n",
       "      <td>3</td>\n",
       "      <td>11668</td>\n",
       "      <td>0</td>\n",
       "      <td>0</td>\n",
       "      <td>11668</td>\n",
       "      <td>0</td>\n",
       "    </tr>\n",
       "  </tbody>\n",
       "</table>\n",
       "</div>"
      ],
      "text/plain": [
       "   step  type  amount  isFraud  isFlaggedFraud  balance_diffOrg  \\\n",
       "0     1     3    9839        0               0             9839   \n",
       "1     1     3    1864        0               0             1864   \n",
       "2     1     4     181        1               0              181   \n",
       "3     1     1     181        1               0              181   \n",
       "4     1     3   11668        0               0            11668   \n",
       "\n",
       "   balance_diffDes  \n",
       "0                0  \n",
       "1                0  \n",
       "2                0  \n",
       "3            21182  \n",
       "4                0  "
      ]
     },
     "execution_count": 17,
     "metadata": {},
     "output_type": "execute_result"
    }
   ],
   "source": [
    "#  using LabelEncoder to encode the data from categorical to numeric\n",
    "label_en = LabelEncoder()\n",
    "\n",
    "df['type'] = label_en.fit_transform(df['type'])\n",
    "\n",
    "df.head()"
   ]
  },
  {
   "cell_type": "code",
   "execution_count": 32,
   "metadata": {
    "execution": {
     "iopub.execute_input": "2024-10-18T10:25:29.797181Z",
     "iopub.status.busy": "2024-10-18T10:25:29.796426Z",
     "iopub.status.idle": "2024-10-18T10:25:31.365879Z",
     "shell.execute_reply": "2024-10-18T10:25:31.364901Z",
     "shell.execute_reply.started": "2024-10-18T10:25:29.797141Z"
    }
   },
   "outputs": [
    {
     "data": {
      "image/png": "[encoded data removed]",
      "text/plain": [
       "<Figure size 640x480 with 2 Axes>"
      ]
     },
     "metadata": {},
     "output_type": "display_data"
    }
   ],
   "source": [
    "df_corr = df.corr()\n",
    "\n",
    "sns.heatmap(df_corr,annot=True)\n",
    "plt.title('correlation matrix')\n",
    "plt.show()"
   ]
  },
  {
   "cell_type": "markdown",
   "metadata": {},
   "source": [
    "\n",
    "## Feature Importance Techniques\n",
    "\n",
    "Feature importance techniques are essential for understanding which variables significantly impact the prediction of a model. In this project, the following methods were utilized:\n",
    "\n",
    "- **Random Forest**: This ensemble learning method computes feature importance by evaluating the reduction in impurity (like Gini impurity or entropy) for each feature across all trees. Features that lead to greater reductions are deemed more important.\n",
    "\n",
    "- **Lasso regression:** Lasso Regression can perform feature selection by penalizing the absolute size of the coefficients. Features with coefficients reduced to zero are considered less important and can be excluded from the model.\n",
    "\n",
    "- **Gradient Boosting**: Similar to Random Forest, this method also ranks features based on their contribution to reducing loss during the boosting process.\n",
    "\n",
    "- Other Techniques :  **Permutation Importance**, **Coefficients of Linear Models**, **SHAP Values (SHapley Additive exPl\n",
    "\n",
    "- By using correlation also we can choose featue importances(<0.5)anations)**\n",
    "\n",
    "\n",
    "- **Domain Knowledge:**\n",
    "\n",
    "In our fraud detection project, feature selection was crucial for building an effective model. Given the dataset's limited number of features, i opted to leverage domain knowledge to identify the most relevant variables for predicting fraudulent transactions. \n",
    "\n",
    "By understanding the context of financial transactions and the factors that may indicate fraud, we were able to select features that align with industry practices and insights. This approach not only streamlined the modeling process but also ensured that the most impactful features were included, enhancing the overall performance and interpretability of the model.\n",
    "\n",
    "- Removed sender & reciver Id , beacuse they have unique id , which doesnt help in traing our model\n",
    "- Merged Befors and After transaction balances features to balance of sender & balance of reciver "
   ]
  },
  {
   "cell_type": "markdown",
   "metadata": {},
   "source": [
    "# Model Training\n",
    "# Model Building: A Car Journey"
   ]
  },
  {
   "cell_type": "markdown",
   "metadata": {},
   "source": [
    "### Splitting the Data\n",
    "\n",
    "<div style=\"text-align: right;\">\n",
    "    <img src=\"https://media.licdn.com/dms/image/C4D12AQEKsyIEPi4XRA/article-cover_image-shrink_600_2000/0/1640838508063?e=2147483647&v=beta&t=HWCnmFHXYqxSFwn8aFyQz1WeYXswV3lr5g47BSvNtPk\" alt=\"\" width=\"700\" height=\"400\">\n",
    "</div>\n",
    "\n",
    "- we splitting the data and resampling , because our data is highly imbalanced .\n",
    "- resampling the data by using SMOTE technique\n",
    "\n",
    "### SMOTE (Synthetic Minority Over-sampling Technique)\n",
    "**SMOTE** is an oversampling technique used to address class imbalance in machine learning by generating synthetic examples of the minority class.\n",
    "\n",
    "**Key Features:**\n",
    "- **Synthetic Sample Generation:** Creates new synthetic instances by interpolating between existing minority class instances and their nearest neighbors.\n",
    "- **Balancing Classes:** Reduces bias toward the majority class, enhancing the model's ability to learn from the minority class.\n",
    "- **How it Works:** For each minority class instance, it identifies k nearest neighbors (often k=5) and generates new samples by interpolating between the instance and selected neighbors."
   ]
  },
  {
   "cell_type": "code",
   "execution_count": 19,
   "metadata": {
    "execution": {
     "iopub.execute_input": "2024-10-18T09:51:50.702256Z",
     "iopub.status.busy": "2024-10-18T09:51:50.701495Z",
     "iopub.status.idle": "2024-10-18T09:51:54.581722Z",
     "shell.execute_reply": "2024-10-18T09:51:54.580703Z",
     "shell.execute_reply.started": "2024-10-18T09:51:50.702210Z"
    }
   },
   "outputs": [
    {
     "data": {
      "text/plain": [
       "isFraud\n",
       "0    5083503\n",
       "1    5083503\n",
       "Name: count, dtype: int64"
      ]
     },
     "execution_count": 19,
     "metadata": {},
     "output_type": "execute_result"
    }
   ],
   "source": [
    "# splitting the data\n",
    "x = df.drop(['isFraud'],axis=1)\n",
    "y = df['isFraud']\n",
    "\n",
    "x_train,x_test,y_train,y_test = train_test_split(x,y,test_size=0.2,random_state=42)\n",
    "\n",
    "# Applying smote\n",
    "smote = SMOTE(random_state=42)\n",
    "x_train_resampled,y_train_resampled = smote.fit_resample(x_train,y_train)\n",
    "\n",
    "# checking the balance of target\n",
    "y_train_resampled.value_counts()"
   ]
  },
  {
   "cell_type": "markdown",
   "metadata": {},
   "source": [
    "## Logistic Regression\n",
    "\n",
    "### Logistic Regression\n",
    "**Logistic Regression** is a statistical method used for binary classification tasks, modeling the relationship between a binary outcome (0 or 1) and one or more independent variables by estimating probabilities through a logistic function.\n",
    "\n",
    "\n",
    "<div style=\"text-align: right;\">\n",
    "    <img src=\"https://images.spiceworks.com/wp-content/uploads/2022/04/11040521/46-4-e1715636469361.png\" alt=\"\" width=\"550\" height=\"400\">\n",
    "</div>\n",
    "\n",
    "\n",
    " **Key Components:**\n",
    "- **Binary Outcome:** The target variable has two classes (e.g., Yes/No).\n",
    "\n",
    "- **Logistic Function:** Converts the linear combination of inputs into a probability between 0 and 1.\n",
    " \n",
    "- **Decision Boundary:** Uses a threshold (typically 0.5) to classify predictions into one of the two classes.\n",
    "\n",
    "- **Loss Function:** Employs Binary Cross-Entropy loss to measure prediction accuracy against actual outcomes.\n",
    "\n",
    "- **Model Fitting:** Parameters are estimated using Maximum Likelihood Estimation (MLE) to maximize the likelihood of observing the data.\n",
    "\n",
    "Logistic Regression is widely used for its simplicity and effectiveness in binary classification problems."
   ]
  },
  {
   "cell_type": "code",
   "execution_count": 20,
   "metadata": {
    "execution": {
     "iopub.execute_input": "2024-10-18T09:51:54.583482Z",
     "iopub.status.busy": "2024-10-18T09:51:54.583154Z",
     "iopub.status.idle": "2024-10-18T09:52:24.253450Z",
     "shell.execute_reply": "2024-10-18T09:52:24.252393Z",
     "shell.execute_reply.started": "2024-10-18T09:51:54.583449Z"
    }
   },
   "outputs": [
    {
     "data": {
      "text/html": [
       "<style>#sk-container-id-1 {color: black;background-color: white;}#sk-container-id-1 pre{padding: 0;}#sk-container-id-1 div.sk-toggleable {background-color: white;}#sk-container-id-1 label.sk-toggleable__label {cursor: pointer;display: block;width: 100%;margin-bottom: 0;padding: 0.3em;box-sizing: border-box;text-align: center;}#sk-container-id-1 label.sk-toggleable__label-arrow:before {content: \"▸\";float: left;margin-right: 0.25em;color: #696969;}#sk-container-id-1 label.sk-toggleable__label-arrow:hover:before {color: black;}#sk-container-id-1 div.sk-estimator:hover label.sk-toggleable__label-arrow:before {color: black;}#sk-container-id-1 div.sk-toggleable__content {max-height: 0;max-width: 0;overflow: hidden;text-align: left;background-color: #f0f8ff;}#sk-container-id-1 div.sk-toggleable__content pre {margin: 0.2em;color: black;border-radius: 0.25em;background-color: #f0f8ff;}#sk-container-id-1 input.sk-toggleable__control:checked~div.sk-toggleable__content {max-height: 200px;max-width: 100%;overflow: auto;}#sk-container-id-1 input.sk-toggleable__control:checked~label.sk-toggleable__label-arrow:before {content: \"▾\";}#sk-container-id-1 div.sk-estimator input.sk-toggleable__control:checked~label.sk-toggleable__label {background-color: #d4ebff;}#sk-container-id-1 div.sk-label input.sk-toggleable__control:checked~label.sk-toggleable__label {background-color: #d4ebff;}#sk-container-id-1 input.sk-hidden--visually {border: 0;clip: rect(1px 1px 1px 1px);clip: rect(1px, 1px, 1px, 1px);height: 1px;margin: -1px;overflow: hidden;padding: 0;position: absolute;width: 1px;}#sk-container-id-1 div.sk-estimator {font-family: monospace;background-color: #f0f8ff;border: 1px dotted black;border-radius: 0.25em;box-sizing: border-box;margin-bottom: 0.5em;}#sk-container-id-1 div.sk-estimator:hover {background-color: #d4ebff;}#sk-container-id-1 div.sk-parallel-item::after {content: \"\";width: 100%;border-bottom: 1px solid gray;flex-grow: 1;}#sk-container-id-1 div.sk-label:hover label.sk-toggleable__label {background-color: #d4ebff;}#sk-container-id-1 div.sk-serial::before {content: \"\";position: absolute;border-left: 1px solid gray;box-sizing: border-box;top: 0;bottom: 0;left: 50%;z-index: 0;}#sk-container-id-1 div.sk-serial {display: flex;flex-direction: column;align-items: center;background-color: white;padding-right: 0.2em;padding-left: 0.2em;position: relative;}#sk-container-id-1 div.sk-item {position: relative;z-index: 1;}#sk-container-id-1 div.sk-parallel {display: flex;align-items: stretch;justify-content: center;background-color: white;position: relative;}#sk-container-id-1 div.sk-item::before, #sk-container-id-1 div.sk-parallel-item::before {content: \"\";position: absolute;border-left: 1px solid gray;box-sizing: border-box;top: 0;bottom: 0;left: 50%;z-index: -1;}#sk-container-id-1 div.sk-parallel-item {display: flex;flex-direction: column;z-index: 1;position: relative;background-color: white;}#sk-container-id-1 div.sk-parallel-item:first-child::after {align-self: flex-end;width: 50%;}#sk-container-id-1 div.sk-parallel-item:last-child::after {align-self: flex-start;width: 50%;}#sk-container-id-1 div.sk-parallel-item:only-child::after {width: 0;}#sk-container-id-1 div.sk-dashed-wrapped {border: 1px dashed gray;margin: 0 0.4em 0.5em 0.4em;box-sizing: border-box;padding-bottom: 0.4em;background-color: white;}#sk-container-id-1 div.sk-label label {font-family: monospace;font-weight: bold;display: inline-block;line-height: 1.2em;}#sk-container-id-1 div.sk-label-container {text-align: center;}#sk-container-id-1 div.sk-container {/* jupyter's `normalize.less` sets `[hidden] { display: none; }` but bootstrap.min.css set `[hidden] { display: none !important; }` so we also need the `!important` here to be able to override the default hidden behavior on the sphinx rendered scikit-learn.org. See: https://github.com/scikit-learn/scikit-learn/issues/21755 */display: inline-block !important;position: relative;}#sk-container-id-1 div.sk-text-repr-fallback {display: none;}</style><div id=\"sk-container-id-1\" class=\"sk-top-container\"><div class=\"sk-text-repr-fallback\"><pre>LogisticRegression()</pre><b>In a Jupyter environment, please rerun this cell to show the HTML representation or trust the notebook. <br />On GitHub, the HTML representation is unable to render, please try loading this page with nbviewer.org.</b></div><div class=\"sk-container\" hidden><div class=\"sk-item\"><div class=\"sk-estimator sk-toggleable\"><input class=\"sk-toggleable__control sk-hidden--visually\" id=\"sk-estimator-id-1\" type=\"checkbox\" checked><label for=\"sk-estimator-id-1\" class=\"sk-toggleable__label sk-toggleable__label-arrow\">LogisticRegression</label><div class=\"sk-toggleable__content\"><pre>LogisticRegression()</pre></div></div></div></div></div>"
      ],
      "text/plain": [
       "LogisticRegression()"
      ]
     },
     "execution_count": 20,
     "metadata": {},
     "output_type": "execute_result"
    }
   ],
   "source": [
    "# Making model \n",
    "log_reg = LogisticRegression()\n",
    "\n",
    "log_reg.fit(x_train_resampled,y_train_resampled)"
   ]
  },
  {
   "cell_type": "code",
   "execution_count": 21,
   "metadata": {
    "execution": {
     "iopub.execute_input": "2024-10-18T09:52:24.256165Z",
     "iopub.status.busy": "2024-10-18T09:52:24.255355Z",
     "iopub.status.idle": "2024-10-18T09:52:26.673402Z",
     "shell.execute_reply": "2024-10-18T09:52:26.672208Z",
     "shell.execute_reply.started": "2024-10-18T09:52:24.256114Z"
    }
   },
   "outputs": [
    {
     "name": "stdout",
     "output_type": "stream",
     "text": [
      "0.9007500055008786\n",
      "              precision    recall  f1-score   support\n",
      "\n",
      "           0       1.00      0.90      0.95   1270904\n",
      "           1       0.01      0.87      0.02      1620\n",
      "\n",
      "    accuracy                           0.90   1272524\n",
      "   macro avg       0.51      0.89      0.48   1272524\n",
      "weighted avg       1.00      0.90      0.95   1272524\n",
      "\n"
     ]
    }
   ],
   "source": [
    "log_reg_pred = log_reg.predict(x_test)\n",
    "\n",
    "log_reg_acc = accuracy_score(y_test,log_reg_pred)\n",
    "print(log_reg_acc)\n",
    "\n",
    "log_reg_report = classification_report(y_test,log_reg_pred)\n",
    "print(log_reg_report)"
   ]
  },
  {
   "cell_type": "markdown",
   "metadata": {},
   "source": [
    "### Standardizing vs. Normalizing\n",
    "\n",
    "\n",
    "<div style=\"text-align: left;\">\n",
    "    <img src=\"https://miro.medium.com/v2/resize:fit:1400/0*yGXw2H6jZsR_ROzQ.png\" alt=\"\" width=\"800\" height=\"400\">\n",
    "</div>\n",
    "\n",
    "\n",
    "**Standardization** is generally preferred for ANNs as it helps with convergence during training, especially when using activation functions like sigmoid or tanh, which are sensitive to the scale of input data.\n",
    "- Rescales the data to have a mean of 0 and a standard deviation of 1\n",
    "\n",
    "**Normalization** can also be useful, particularly for ensuring that inputs are bounded between 0 and 1, but it may not handle outliers as effectively.\n",
    "- Rescales the data to a range between 0 and 1"
   ]
  },
  {
   "cell_type": "code",
   "execution_count": 22,
   "metadata": {
    "execution": {
     "iopub.execute_input": "2024-10-18T09:52:26.675515Z",
     "iopub.status.busy": "2024-10-18T09:52:26.675180Z",
     "iopub.status.idle": "2024-10-18T09:52:28.112021Z",
     "shell.execute_reply": "2024-10-18T09:52:28.110725Z",
     "shell.execute_reply.started": "2024-10-18T09:52:26.675482Z"
    }
   },
   "outputs": [],
   "source": [
    "#  using Standard scaler to standardize the Input for Neural Netwroks\n",
    "ss = StandardScaler()\n",
    "\n",
    "x_train_scaled = ss.fit_transform(x_train_resampled)\n",
    "x_test_scaled = ss.transform(x_test)"
   ]
  },
  {
   "cell_type": "markdown",
   "metadata": {},
   "source": [
    "# Fraud Detection Model\n",
    "## ANN"
   ]
  },
  {
   "cell_type": "markdown",
   "metadata": {},
   "source": [
    "### Artificial Neural Networks (ANNs)\n",
    "\n",
    "\n",
    "<div style=\"text-align: right;\">\n",
    "    <img src=\"https://media.geeksforgeeks.org/wp-content/cdn-uploads/20230602113310/Neural-Networks-Architecture.png\" alt=\"\" width=\"700\" height=\"400\">\n",
    "</div>\n",
    "\n",
    "\n",
    "\n",
    "**Artificial Neural Networks (ANNs)** are machine learning models inspired by the human brain's structure and function. They are widely used for tasks such as classification, regression, and pattern recognition.\n",
    "\n",
    "\n",
    "**Structure:**\n",
    "\n",
    "- **Neurons:** Basic units that receive inputs, process them, and produce outputs.\n",
    "- **Layers:**\n",
    "    - Input Layer: Receives input data.\n",
    "    - Hidden Layers: Perform computations; the more layers, the more complex the model.\n",
    "    - Output Layer: Produces final predictions.\n",
    "\n",
    "- **Activation Functions:**\n",
    "     - Sigmoid: For binary outputs.\n",
    "     - ReLU (Rectified Linear Unit): Commonly used in hidden layers.\n",
    "     - Softmax: Converts outputs to probabilities for multi-class classification.\n",
    "- **Forward Propagation:** The process of passing input through the network to generate outputs.\n",
    "\n",
    "- **Loss Function:** Measures the difference between predicted outputs and actual values, guiding the learning process.\n",
    "     - Mean Squared Error (MSE): For regression tasks.\n",
    "     - Binary Cross-Entropy: For binary classification.\n",
    "- **Backpropagation:** An optimization method that updates the network's weights based on the loss, minimizing it over time.\n",
    "\n",
    "- **Learning Rate:** A hyperparameter that controls weight updates during training, affecting convergence speed and stability."
   ]
  },
  {
   "cell_type": "code",
   "execution_count": 23,
   "metadata": {
    "execution": {
     "iopub.execute_input": "2024-10-18T09:52:28.113747Z",
     "iopub.status.busy": "2024-10-18T09:52:28.113396Z",
     "iopub.status.idle": "2024-10-18T10:00:36.699446Z",
     "shell.execute_reply": "2024-10-18T10:00:36.698296Z",
     "shell.execute_reply.started": "2024-10-18T09:52:28.113714Z"
    }
   },
   "outputs": [
    {
     "name": "stdout",
     "output_type": "stream",
     "text": [
      "Epoch 1/10\n",
      "\u001b[1m31772/31772\u001b[0m \u001b[32m━━━━━━━━━━━━━━━━━━━━\u001b[0m\u001b[37m\u001b[0m \u001b[1m50s\u001b[0m 2ms/step - accuracy: 0.9587 - loss: 0.1023 - val_accuracy: 0.9796 - val_loss: 0.0767\n",
      "Epoch 2/10\n",
      "\u001b[1m31772/31772\u001b[0m \u001b[32m━━━━━━━━━━━━━━━━━━━━\u001b[0m\u001b[37m\u001b[0m \u001b[1m48s\u001b[0m 2ms/step - accuracy: 0.9701 - loss: 0.0689 - val_accuracy: 0.9752 - val_loss: 0.0767\n",
      "Epoch 3/10\n",
      "\u001b[1m31772/31772\u001b[0m \u001b[32m━━━━━━━━━━━━━━━━━━━━\u001b[0m\u001b[37m\u001b[0m \u001b[1m49s\u001b[0m 2ms/step - accuracy: 0.9710 - loss: 0.0659 - val_accuracy: 0.9805 - val_loss: 0.0771\n",
      "Epoch 4/10\n",
      "\u001b[1m31772/31772\u001b[0m \u001b[32m━━━━━━━━━━━━━━━━━━━━\u001b[0m\u001b[37m\u001b[0m \u001b[1m49s\u001b[0m 2ms/step - accuracy: 0.9717 - loss: 0.0642 - val_accuracy: 0.9536 - val_loss: 0.1024\n",
      "Epoch 5/10\n",
      "\u001b[1m31772/31772\u001b[0m \u001b[32m━━━━━━━━━━━━━━━━━━━━\u001b[0m\u001b[37m\u001b[0m \u001b[1m49s\u001b[0m 2ms/step - accuracy: 0.9722 - loss: 0.0633 - val_accuracy: 0.9883 - val_loss: 0.0643\n",
      "Epoch 6/10\n",
      "\u001b[1m31772/31772\u001b[0m \u001b[32m━━━━━━━━━━━━━━━━━━━━\u001b[0m\u001b[37m\u001b[0m \u001b[1m48s\u001b[0m 2ms/step - accuracy: 0.9726 - loss: 0.0626 - val_accuracy: 0.9805 - val_loss: 0.0731\n",
      "Epoch 7/10\n",
      "\u001b[1m31772/31772\u001b[0m \u001b[32m━━━━━━━━━━━━━━━━━━━━\u001b[0m\u001b[37m\u001b[0m \u001b[1m49s\u001b[0m 2ms/step - accuracy: 0.9726 - loss: 0.0624 - val_accuracy: 0.9738 - val_loss: 0.0793\n",
      "Epoch 8/10\n",
      "\u001b[1m31772/31772\u001b[0m \u001b[32m━━━━━━━━━━━━━━━━━━━━\u001b[0m\u001b[37m\u001b[0m \u001b[1m49s\u001b[0m 2ms/step - accuracy: 0.9729 - loss: 0.0616 - val_accuracy: 0.9731 - val_loss: 0.0884\n",
      "Epoch 9/10\n",
      "\u001b[1m31772/31772\u001b[0m \u001b[32m━━━━━━━━━━━━━━━━━━━━\u001b[0m\u001b[37m\u001b[0m \u001b[1m49s\u001b[0m 2ms/step - accuracy: 0.9728 - loss: 0.0616 - val_accuracy: 0.9754 - val_loss: 0.0755\n",
      "Epoch 10/10\n",
      "\u001b[1m31772/31772\u001b[0m \u001b[32m━━━━━━━━━━━━━━━━━━━━\u001b[0m\u001b[37m\u001b[0m \u001b[1m49s\u001b[0m 2ms/step - accuracy: 0.9731 - loss: 0.0610 - val_accuracy: 0.9826 - val_loss: 0.0684\n"
     ]
    }
   ],
   "source": [
    "# Creating the Architecture of model\n",
    "model = Sequential()\n",
    "model.add(Dense(units=32, activation='relu', input_shape=(x_train.shape[1],)))\n",
    "model.add(Dense(units=16, activation='relu'))\n",
    "model.add(Dense(units=8, activation='relu'))\n",
    "model.add(Dense(units=1, activation='sigmoid'))  # Output layer for binary classification\n",
    "\n",
    "# Compiling the model\n",
    "model.compile(optimizer='adam', loss='binary_crossentropy', metrics=['accuracy'])\n",
    "\n",
    "# training model\n",
    "history = model.fit(x_train_scaled, y_train_resampled, epochs=10, batch_size=256, validation_split=0.2)"
   ]
  },
  {
   "cell_type": "code",
   "execution_count": 25,
   "metadata": {
    "execution": {
     "iopub.execute_input": "2024-10-18T10:02:16.331161Z",
     "iopub.status.busy": "2024-10-18T10:02:16.330726Z",
     "iopub.status.idle": "2024-10-18T10:02:16.893594Z",
     "shell.execute_reply": "2024-10-18T10:02:16.892560Z",
     "shell.execute_reply.started": "2024-10-18T10:02:16.331123Z"
    }
   },
   "outputs": [
    {
     "data": {
      "image/png": "[encoded data removed]",
      "text/plain": [
       "<Figure size 1200x500 with 2 Axes>"
      ]
     },
     "metadata": {},
     "output_type": "display_data"
    }
   ],
   "source": [
    "\n",
    "import matplotlib.pyplot as plt\n",
    "\n",
    "# Plot training & validation accuracy values\n",
    "plt.figure(figsize=(12, 5))\n",
    "\n",
    "plt.subplot(1, 2, 1)\n",
    "plt.plot(history.history['accuracy'], label='Train Accuracy')\n",
    "plt.plot(history.history['val_accuracy'], label='Validation Accuracy')\n",
    "plt.title('Model Accuracy')\n",
    "plt.ylabel('Accuracy')\n",
    "plt.xlabel('Epoch')\n",
    "plt.legend()\n",
    "\n",
    "# Plot training & validation loss values\n",
    "plt.subplot(1, 2, 2)\n",
    "plt.plot(history.history['loss'], label='Train Loss')\n",
    "plt.plot(history.history['val_loss'], label='Validation Loss')\n",
    "plt.title('Model Loss')\n",
    "plt.ylabel('Loss')\n",
    "plt.xlabel('Epoch')\n",
    "plt.legend()\n",
    "\n",
    "plt.show()"
   ]
  },
  {
   "cell_type": "markdown",
   "metadata": {},
   "source": [
    "- training accuracy and validation accuracy has increased after 6 epoches\n",
    "- training and validation loss has decreased after 7 "
   ]
  },
  {
   "cell_type": "code",
   "execution_count": 26,
   "metadata": {
    "execution": {
     "iopub.execute_input": "2024-10-18T10:06:23.929962Z",
     "iopub.status.busy": "2024-10-18T10:06:23.928974Z",
     "iopub.status.idle": "2024-10-18T10:07:20.806131Z",
     "shell.execute_reply": "2024-10-18T10:07:20.804993Z",
     "shell.execute_reply.started": "2024-10-18T10:06:23.929910Z"
    }
   },
   "outputs": [
    {
     "name": "stdout",
     "output_type": "stream",
     "text": [
      "\u001b[1m39767/39767\u001b[0m \u001b[32m━━━━━━━━━━━━━━━━━━━━\u001b[0m\u001b[37m\u001b[0m \u001b[1m38s\u001b[0m 950us/step\n"
     ]
    }
   ],
   "source": [
    "ann_pred = model.predict(x_test_scaled)"
   ]
  },
  {
   "cell_type": "code",
   "execution_count": 27,
   "metadata": {
    "execution": {
     "iopub.execute_input": "2024-10-18T10:08:13.919219Z",
     "iopub.status.busy": "2024-10-18T10:08:13.918791Z",
     "iopub.status.idle": "2024-10-18T10:08:13.924950Z",
     "shell.execute_reply": "2024-10-18T10:08:13.923876Z",
     "shell.execute_reply.started": "2024-10-18T10:08:13.919181Z"
    }
   },
   "outputs": [],
   "source": [
    "ann_predictions = (ann_pred>0.5).astype('int32')"
   ]
  },
  {
   "cell_type": "markdown",
   "metadata": {},
   "source": [
    "- we use a threshold value of o.5 to ensure the outcomes are in binary (0 or 1) not in float "
   ]
  },
  {
   "cell_type": "markdown",
   "metadata": {},
   "source": [
    "# Model Performance\n",
    "## Model Evaluation"
   ]
  },
  {
   "cell_type": "code",
   "execution_count": 28,
   "metadata": {
    "execution": {
     "iopub.execute_input": "2024-10-18T10:08:17.932448Z",
     "iopub.status.busy": "2024-10-18T10:08:17.932021Z",
     "iopub.status.idle": "2024-10-18T10:08:20.075034Z",
     "shell.execute_reply": "2024-10-18T10:08:20.073879Z",
     "shell.execute_reply.started": "2024-10-18T10:08:17.932410Z"
    }
   },
   "outputs": [
    {
     "name": "stdout",
     "output_type": "stream",
     "text": [
      "0.9692626622366258\n",
      "              precision    recall  f1-score   support\n",
      "\n",
      "           0       1.00      0.97      0.98   1270904\n",
      "           1       0.04      0.97      0.07      1620\n",
      "\n",
      "    accuracy                           0.97   1272524\n",
      "   macro avg       0.52      0.97      0.53   1272524\n",
      "weighted avg       1.00      0.97      0.98   1272524\n",
      "\n"
     ]
    }
   ],
   "source": [
    "ann_acc = accuracy_score(y_test,ann_predictions)\n",
    "print(ann_acc)\n",
    "\n",
    "ann_report = classification_report(y_test,ann_predictions)\n",
    "print(ann_report)"
   ]
  },
  {
   "cell_type": "markdown",
   "metadata": {},
   "source": [
    "### Classification Report Overview\n",
    "\n",
    "The **classification report** is an essential evaluation tool in machine learning that summarizes the performance of a classification model using key metrics. It provides insights into how well the model predicts different classes, especially in imbalanced datasets.\n",
    "\n",
    "### Accuracy\n",
    "-  Accuracy measures the overall correctness of the model by calculating the ratio of correct predictions (both true positives and true negatives) to the total number of predictions.\n",
    "- Range: 0 to 1\n",
    "- Values above 0.9 indicate high accuracy, meaning the model correctly predicts a large majority of instances.\n",
    "\n",
    "\n",
    "### Precision\n",
    "- Precision measures the accuracy of positive predictions by calculating the ratio of true positives to the total predicted positives.\n",
    "- Range: 0 to 1\n",
    "-  Values above 0.9 indicate high precision, meaning most positive predictions are correct.\n",
    "\n",
    "\n",
    "### Recall\n",
    "- Recall assesses the model’s ability to identify all actual positive instances by comparing true positives to the total actual positives.\n",
    "- Range: 0 to 1\n",
    "- Values above 0.9 indicate high recall, meaning most actual positives are correctly identified.\n",
    "\n",
    "\n",
    "### F1-Score\n",
    "- The F1-Score combines precision and recall into a single metric, representing the harmonic mean of both.\n",
    "- Range: 0 to 1\n",
    "- Values above 0.9 indicate excellent model performance, reflecting a good balance between precision and recall.\n",
    "\n",
    "##  Our Model Performance \n",
    "-  Accuracy of 97% , which indicates that the model correctly predicts a large majority of cases.\n",
    "-  the model exhibits high accuracy and performance for class 0, its performance for class 1 is concerning due to very low precision and F1-score. \n",
    "- This suggests a potential issue with the model's ability to generalize well for the minority class due high imbalance present in data even after resampling\n"
   ]
  },
  {
   "cell_type": "code",
   "execution_count": 29,
   "metadata": {
    "execution": {
     "iopub.execute_input": "2024-10-18T10:08:24.077925Z",
     "iopub.status.busy": "2024-10-18T10:08:24.077530Z",
     "iopub.status.idle": "2024-10-18T10:08:24.584070Z",
     "shell.execute_reply": "2024-10-18T10:08:24.583027Z",
     "shell.execute_reply.started": "2024-10-18T10:08:24.077890Z"
    }
   },
   "outputs": [
    {
     "data": {
      "image/png": "[encoded data removed]",
      "text/plain": [
       "<Figure size 800x600 with 2 Axes>"
      ]
     },
     "metadata": {},
     "output_type": "display_data"
    }
   ],
   "source": [
    "cm = confusion_matrix(y_test, ann_predictions)\n",
    "\n",
    "#  Visualize Confusion Matrix\n",
    "plt.figure(figsize=(8, 6))\n",
    "sns.heatmap(cm, annot=True, fmt='d', cmap='Blues', xticklabels=['Not Fraud', 'Fraud'], yticklabels=['Not Fraud', 'Fraud'])\n",
    "plt.title('Confusion Matrix')\n",
    "plt.xlabel('Predicted Labels')\n",
    "plt.ylabel('True Labels')\n",
    "plt.show()"
   ]
  },
  {
   "cell_type": "markdown",
   "metadata": {},
   "source": [
    "- **True Positives (TP):** Correctly predicted positive cases (1,231,837 in your example).\n",
    "- **False Positives (FP):** Incorrectly predicted as positive (39,067).\n",
    "- **False Negatives (FN):** Incorrectly predicted as negative (47).\n",
    "- **True Negatives (TN):** Correctly predicted negative cases (1,573). This matrix helps identify areas for improvement in the model, such as high false positive or false negative rates."
   ]
  },
  {
   "cell_type": "markdown",
   "metadata": {},
   "source": [
    "### Confusion Matrix\n",
    "A **Confusion Matrix** is a performance measurement tool for classification models, especially in binary classification. It compares the actual target values with the model's predicted values, providing detailed insights into the number of correct and incorrect predictions.\n",
    "\n",
    "\n",
    "\n",
    "\n",
    "\n",
    "<div style=\"text-align: left;\">\n",
    "    <img src=\"https://plat.ai/wp-content/uploads/Table1-2.png.webp\" alt=\"\" width=\"600\" height=\"400\">\n",
    "</div>\n",
    "\n",
    "\n",
    "\n",
    "\n",
    "- **True Positive (TP)**: Correctly predicted positive cases.\n",
    "- **False Positive (FP)**: Incorrectly predicted positive cases (actual negative but predicted positive).\n",
    "- **False Negative (FN)**: Incorrectly predicted negative cases (actual positive but predicted negative).\n",
    "- **True Negative (TN)**: Correctly predicted negative cases."
   ]
  },
  {
   "cell_type": "code",
   "execution_count": 30,
   "metadata": {
    "execution": {
     "iopub.execute_input": "2024-10-18T10:15:42.020154Z",
     "iopub.status.busy": "2024-10-18T10:15:42.019533Z",
     "iopub.status.idle": "2024-10-18T10:15:42.418551Z",
     "shell.execute_reply": "2024-10-18T10:15:42.417482Z",
     "shell.execute_reply.started": "2024-10-18T10:15:42.020111Z"
    }
   },
   "outputs": [
    {
     "data": {
      "image/png": "[encoded data removed]",
      "text/plain": [
       "<Figure size 800x600 with 1 Axes>"
      ]
     },
     "metadata": {},
     "output_type": "display_data"
    }
   ],
   "source": [
    "#  Precision-Recall Curve\n",
    "precision, recall, _ = precision_recall_curve(y_test, ann_predictions)\n",
    "\n",
    "plt.figure(figsize=(8, 6))\n",
    "plt.plot(recall, precision, color='blue')\n",
    "plt.xlabel('Recall')\n",
    "plt.ylabel('Precision')\n",
    "plt.title('Precision-Recall Curve')\n",
    "plt.show()"
   ]
  },
  {
   "cell_type": "markdown",
   "metadata": {},
   "source": [
    "### Precision-Recall Curve\n",
    "**A Precision-Recall** (PR) curve is a useful tool to evaluate the performance of a binary classifier, especially when dealing with imbalanced datasets. It helps to understand the trade-off between precision (the number of true positives over all predicted positives) and recall (the number of true positives over all actual positives) at various threshold levels.\n",
    "\n",
    "- **Precision**: The proportion of correctly predicted positive instances out of all instances predicted as positive.\n",
    "          \n",
    "$$\\text{Precision} = \\frac{TP}{TP + FP}$$\n",
    "\n",
    " \n",
    "- **Recall**: The proportion of correctly predicted positive instances out of all actual positive instances.\n",
    "\n",
    "$$\\text{Recall} = \\frac{TP}{TP + FN}$$\n",
    "\n",
    " \n",
    "- **PR AUC**: The area under the Precision-Recall curve. A higher value indicates better performance, especially for imbalanced datasets.\n",
    "\n",
    "\n",
    "\n",
    "\n",
    "*In our Model by Observing the flat line of Precision-Recall , we can say our model is balancing the performance constantly* "
   ]
  },
  {
   "cell_type": "markdown",
   "metadata": {},
   "source": [
    "\n",
    "# Key Predictors of Fraud\n",
    "In our fraud detection model, two critical features emerged as key predictors of fraudulent behavior: **transaction amount** and **account balance**.\n",
    "\n",
    "### 1. **Transaction Amount**\n",
    "-  The transaction amount serves as a primary indicator of potential fraud. \n",
    "-  Larger transaction amounts were strongly correlated with fraudulent activities. For instance, transactions that exceed typical customer behavior often warrant further investigation.\n",
    "-  Fraudulent transactions typically involve significant sums, making the transaction amount a crucial factor for flagging suspicious behavior.\n",
    "\n",
    "### 2. **Account Balance**\n",
    "-  Changes in account balance, particularly fluctuations surrounding transactions, are significant indicators of fraud.\n",
    "-  Notable increases or decreases in account balances can signal attempts to manipulate or exploit the account, especially when correlated with high-risk transaction types.\n",
    "-  Rapid changes in balances, especially after large withdrawals or transfers, are often associated with fraudulent activities as individuals attempt to obscure their actions.\n",
    "\n",
    "Incorporating transaction amount and account balance as key predictors not only enhances the model's predictive accuracy but also aligns with common patterns observed in fraudulent behavior. By focusing on these features, financial institutions can improve their fraud detection capabilities, enabling them to mitigate risks effectively.\n"
   ]
  },
  {
   "cell_type": "markdown",
   "metadata": {},
   "source": [
    "# Validity of Factors\n",
    "\n",
    "The identified factors—transaction amount and account balance—were evaluated for their validity in predicting fraudulent behavior.\n",
    "\n",
    "### 1. **Transaction Amount**\n",
    "\n",
    "-  The correlation between transaction amount and fraudulent activity aligns well with existing research and industry observations. Numerous studies have shown that larger transactions are often linked to higher fraud risk, as fraudsters typically aim to maximize their gains in a single attempt. Additionally, financial institutions commonly implement thresholds to flag transactions that exceed typical amounts, reinforcing the importance of this feature.\n",
    "\n",
    "### 2. **Account Balance**\n",
    "\n",
    "-  Changes in account balance as a predictor of fraud is also supported by empirical evidence. Research indicates that fluctuations in account balances, especially those that occur suddenly or after significant transactions, can signal fraudulent behavior. This is consistent with the understanding that fraudsters may try to manipulate their account balances to obscure their actions, such as by quickly transferring funds to other accounts. The inclusion of this feature is supported by risk management practices in the financial sector.\n",
    "\n",
    "\n",
    "Both identified factors make logical sense and are supported by existing research and industry practices. Their relevance in the model enhances its credibility and effectiveness in detecting fraudulent activities, making them valuable components of our fraud detection strategy.\n"
   ]
  },
  {
   "cell_type": "markdown",
   "metadata": {},
   "source": [
    "# Infrastructure Updates\n",
    "\n",
    "To reduce the risk of fraud and boost security, the company should implement key preventative measures when upgrading its infrastructure.\n",
    "\n",
    "### 1. **Deploy Real-time Fraud Detection Tools**\n",
    "   -  Implement machine learning-driven systems capable of instantly identifying and flagging suspicious transactions.\n",
    "   -  Enables quick detection of potential fraudulent actions, reducing the chance for fraud to be executed undetected.\n",
    "\n",
    "### 2. **Enhance Authentication Procedures**\n",
    "   -  Introduce multi-factor authentication (MFA) for transaction verifications, requiring additional validation steps like SMS codes or biometrics.\n",
    "   -  Adds extra security layers, making it more difficult for fraudsters to execute unauthorized transactions.\n",
    "\n",
    "### 3. **Dynamic Transaction Limits and Monitoring**\n",
    "   -  Regularly adjust transaction limits based on fraud trends and flag transactions that exceed those limits for further scrutiny.\n",
    "   - Adaptive thresholds make it easier to detect abnormal transactions, improving the system’s ability to catch potential fraud.\n",
    "\n",
    "### 4. **Adopt Advanced Anomaly Detection**\n",
    "   -  Use AI-based anomaly detection systems to track unusual behavioral patterns, such as irregular geographic locations or transaction times.\n",
    "   -  Detects unusual behavior early, which helps prevent fraudulent activity from progressing.\n",
    "\n",
    "### 5. **Upgrade Data Encryption and Security Protocols**\n",
    "   -  Encrypt sensitive information like account details and transaction data to prevent unauthorized access.\n",
    "   -  Protects customer data from being misused by fraudsters or external threats, ensuring that information remains secure.\n"
   ]
  },
  {
   "cell_type": "markdown",
   "metadata": {},
   "source": [
    "# Evaluating Effectiveness\n",
    "\n",
    "1. **Monitor Key Performance Indicators (KPIs)**\n",
    "   - by Identifying and tracking key metrics that directly reflect the system’s ability to detect and prevent fraud.\n",
    "   - KPIs provide a measurable way to determine whether the implemented actions are improving fraud detection without introducing excessive false positives.\n",
    "   \n",
    " 2. **Longitudinal Analysis**\n",
    "    - by  Conducting a long-term comparison of fraud rates before and after the measures were introduced.\n",
    "    -  A significant reduction in fraud incidents over time would indicate that the measures are successfully preventing fraudulent transactions.\n",
    "    \n",
    " 3. **A/B Testing**\n",
    "    - by Testing the new fraud detection system against the previous system by running both simultaneously on a subset of transactions. Measure the difference in performance between the two systems.\n",
    "    -  This method provides direct evidence of improvement by comparing real-time fraud detection rates and error rates, helping to refine the model as needed.\n",
    "    \n",
    " 4. **Customer Feedback and Incident Reports**\n",
    "    -  Gather customer feedback and monitor reports of fraud-related issues post-implementation.\n",
    "    \n",
    " **By implementing these Methods we can evaluate the implemented actions**"
   ]
  },
  {
   "cell_type": "markdown",
   "metadata": {},
   "source": [
    "# Conclusion\n",
    "\n",
    "This project effectively showcases how **data-driven methods** can enhance the detection of **fraudulent transactions** in the financial sector. By integrating **domain knowledge**, **data cleaning**, and **feature selection**, we developed a robust model that accurately identifies potential fraud, highlighting key factors like **transaction amount** and **account balances**.\n",
    "\n",
    "Our findings emphasize the need for improved infrastructure, including **real-time monitoring** and **dynamic detection systems**, to proactively combat fraud. Continuous evaluation of these measures will be essential to ensure a secure transactional environment, ultimately safeguarding both institutions and their customers from **financial risks**.\n"
   ]
  },
  {
   "cell_type": "markdown",
   "metadata": {},
   "source": [
    "#  Fun Learning"
   ]
  },
  {
   "cell_type": "markdown",
   "metadata": {},
   "source": [
    "# <center> **Model Building: A Car Journey** 🚗 </center>\n",
    "\n",
    "---\n",
    "\n",
    "### Building a model is like designing a car. 🚗💻\n",
    "\n",
    "<br>\n",
    "\n",
    "- **Data is the fuel** — The cleaner the fuel, the better the performance. Just like good fuel makes the car run smoothly, high-quality data drives model success. ⛽📊\n",
    "\n",
    "<br>\n",
    "\n",
    "- **The model is the engine** — You choose one based on the task, like picking between a sports car engine (complex models) or a fuel-efficient one (simpler models). 🏎️⚙️\n",
    "\n",
    "<br>\n",
    "\n",
    "- **Metrics are the dashboard gauges** — They show how well the model is running, just like a speedometer tells you how fast you're going. 📈📉\n",
    "\n",
    "<br>\n",
    "\n",
    "- **Hyperparameter tuning is fine-tuning the car** — Adjustments ensure that both the car and the model perform at their best. 🔧🛠️\n",
    "\n",
    "<br>\n",
    "\n",
    "- **The final test drive** — You evaluate the model's results, making sure it's ready to hit the road and perform effectively. 🚦🏁\n",
    "\n",
    "---\n",
    "\n",
    "<br>\n",
    "\n",
    "### <center> Ready, set, go! 🚗💨 </center>\n"
   ]
  }
 ],
 "metadata": {
  "kaggle": {
   "accelerator": "none",
   "dataSources": [
    {
     "datasetId": 5895477,
     "sourceId": 9651772,
     "sourceType": "datasetVersion"
    }
   ],
   "dockerImageVersionId": 30786,
   "isGpuEnabled": false,
   "isInternetEnabled": true,
   "language": "python",
   "sourceType": "notebook"
  },
  "kernelspec": {
   "display_name": "Python 3 (ipykernel)",
   "language": "python",
   "name": "python3"
  },
  "language_info": {
   "codemirror_mode": {
    "name": "ipython",
    "version": 3
   },
   "file_extension": ".py",
   "mimetype": "text/x-python",
   "name": "python",
   "nbconvert_exporter": "python",
   "pygments_lexer": "ipython3",
   "version": "3.11.7"
  }
 },
 "nbformat": 4,
 "nbformat_minor": 4
}
